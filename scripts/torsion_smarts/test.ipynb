{
 "cells": [
  {
   "cell_type": "code",
   "execution_count": 75,
   "metadata": {},
   "outputs": [],
   "source": [
    "from rdkit import Chem\n",
    "import pickle\n",
    "\n",
    "from ipywidgets import interact, fixed, IntSlider\n",
    "import ipywidgets\n",
    "import py3Dmol\n",
    "\n",
    "def show_mol(mol, view, grid):\n",
    "    mb = Chem.MolToMolBlock(mol)\n",
    "    view.removeAllModels(viewer=grid)\n",
    "    view.addModel(mb,'sdf', viewer=grid)\n",
    "    view.setStyle({'model':0},{'stick': {}}, viewer=grid)\n",
    "    view.zoomTo(viewer=grid)\n",
    "    return view\n",
    "\n",
    "def view_single(mol):\n",
    "    view = py3Dmol.view(width=600, height=600, linked=False, viewergrid=(1,1))\n",
    "    show_mol(mol, view, grid=(0, 0))\n",
    "    return view\n",
    "\n",
    "def MolTo3DView(mol, size=(600, 600), style=\"stick\", surface=False, opacity=0.5, confId=0):\n",
    "    \"\"\"Draw molecule in 3D\n",
    "    \n",
    "    Args:\n",
    "    ----\n",
    "        mol: rdMol, molecule to show\n",
    "        size: tuple(int, int), canvas size\n",
    "        style: str, type of drawing molecule\n",
    "               style can be 'line', 'stick', 'sphere', 'carton'\n",
    "        surface, bool, display SAS\n",
    "        opacity, float, opacity of surface, range 0.0-1.0\n",
    "    Return:\n",
    "    ----\n",
    "        viewer: py3Dmol.view, a class for constructing embedded 3Dmol.js views in ipython notebooks.\n",
    "    \"\"\"\n",
    "    assert style in ('line', 'stick', 'sphere', 'carton')\n",
    "    # mblock = Chem.MolToMolBlock(mol[confId])\n",
    "    mblock = Chem.MolToMolBlock(mol)\n",
    "    viewer = py3Dmol.view(width=size[0], height=size[1])\n",
    "    viewer.addModel(mblock, 'mol')\n",
    "    viewer.setStyle({style:{}})\n",
    "    if surface:\n",
    "        viewer.addSurface(py3Dmol.SAS, {'opacity': opacity})\n",
    "    viewer.zoomTo()\n",
    "    return viewer\n",
    "\n",
    "def conf_viewer(mol):\n",
    "    return MolTo3DView(mol).show()"
   ]
  },
  {
   "cell_type": "code",
   "execution_count": 76,
   "metadata": {},
   "outputs": [],
   "source": [
    "def smi2idx(smi):\n",
    "    probe_smi = smi\n",
    "    path = \"/pubhome/qcxia02/git-repo/AI-CONF/datasets/GeoMol/test/drugs-plati/pre-train/split_mols/test_ref\"\n",
    "    path = Path(path)\n",
    "    for sdfile in path.iterdir():\n",
    "        mols = Chem.SDMolSupplier(str(sdfile))\n",
    "    \n",
    "        mol = next(mols) # first mol in mols\n",
    "        if mol.GetProp(\"_SMILES\") == probe_smi:\n",
    "            return int(sdfile.stem)"
   ]
  },
  {
   "cell_type": "code",
   "execution_count": 77,
   "metadata": {},
   "outputs": [
    {
     "data": {
      "text/plain": [
       "['O=[C:1][NX3H0:2]!@[CX4H0:3][C:4]',\n",
       " '[CH0:1][NX3:2]([CH1])!@[c:3][a:4]',\n",
       " '[cH1:1][c:2]([cH1])!@[NX3:3][CX4:4]',\n",
       " '[a:1][a:2]!@[NX3:3][!#1:4]',\n",
       " '[H:1][CX4H1:2]!@[SX4:3][!#1:4]',\n",
       " '[aH1:1][c:2]([aH0])!@[SX2:3][!#1:4]',\n",
       " '[aH0:1][c:2]([aH0])!@[SX2:3][!#1:4]',\n",
       " '[c:1][CX4:2]!@[CX3:3]=[O:4]',\n",
       " '[cH0:1][c:2]([cH1])!@[c:3]([cH0:4])[cH1]',\n",
       " '[cH0:1][c:2]!@[CX4H2:3][N,O,S:4]',\n",
       " '[cH0:1][c:2]!@[CX4H2:3][!#1:4]',\n",
       " '[cH0:1][c:2]!@[CX4H1:3][CX4:4]O=[C:1][NX3H0:2]!@[CX4H0:3][C:4]']"
      ]
     },
     "execution_count": 77,
     "metadata": {},
     "output_type": "execute_result"
    }
   ],
   "source": [
    "from rdkit import Chem\n",
    "from pathlib import Path\n",
    "from collections import defaultdict\n",
    "torsiontxt = Path(\"/pubhome/qcxia02/git-repo/AI-CONF/GeoMol/scripts/torsion_smarts/tor_smarts.txt\")\n",
    "torsionsmarts = torsiontxt.read_text().split(\"\\n\")\n",
    "sdsupplier = Chem.SDMolSupplier(\"/pubhome/qcxia02/git-repo/AI-CONF/datasets/platinum_diverse_dataset_2017_01.sdf\")\n",
    "torsionsmarts"
   ]
  },
  {
   "cell_type": "code",
   "execution_count": 78,
   "metadata": {},
   "outputs": [],
   "source": [
    "torsion_idx_dict = defaultdict(list)\n",
    "torsion_smi_dict = defaultdict(list)\n",
    "\n",
    "for i, mol in enumerate(sdsupplier):\n",
    "    for torsion in torsionsmarts:\n",
    "        torsionQuery = Chem.MolFromSmarts(torsion) \n",
    "        if mol.GetSubstructMatches(torsionQuery):\n",
    "            torsion_smi_dict[torsion].append(Chem.MolToSmiles(mol))\n",
    "            torsion_idx_dict[torsion].append(i+1)"
   ]
  },
  {
   "cell_type": "code",
   "execution_count": 79,
   "metadata": {},
   "outputs": [
    {
     "data": {
      "text/html": [
       "<div>\n",
       "<style scoped>\n",
       "    .dataframe tbody tr th:only-of-type {\n",
       "        vertical-align: middle;\n",
       "    }\n",
       "\n",
       "    .dataframe tbody tr th {\n",
       "        vertical-align: top;\n",
       "    }\n",
       "\n",
       "    .dataframe thead th {\n",
       "        text-align: right;\n",
       "    }\n",
       "</style>\n",
       "<table border=\"1\" class=\"dataframe\">\n",
       "  <thead>\n",
       "    <tr style=\"text-align: right;\">\n",
       "      <th></th>\n",
       "      <th>torsion</th>\n",
       "      <th>smi</th>\n",
       "      <th>idxplati</th>\n",
       "    </tr>\n",
       "  </thead>\n",
       "  <tbody>\n",
       "    <tr>\n",
       "      <th>0</th>\n",
       "      <td>[a:1][a:2]!@[NX3:3][!#1:4]</td>\n",
       "      <td>[O=[N+]([O-])c1cc(C(F)(F)F)ccc1NCc1ccco1, Cc1c...</td>\n",
       "      <td>[2, 5, 6, 8, 9, 10, 11, 12, 19, 20, 24, 25, 28...</td>\n",
       "    </tr>\n",
       "    <tr>\n",
       "      <th>1</th>\n",
       "      <td>[cH1:1][c:2]([cH1])!@[NX3:3][CX4:4]</td>\n",
       "      <td>[Cc1cc(Nc2nn(C(C)C)c(=O)c3cc(N4CC[NH+](C)CC4)c...</td>\n",
       "      <td>[5, 55, 119, 148, 149, 175, 178, 192, 200, 204...</td>\n",
       "    </tr>\n",
       "    <tr>\n",
       "      <th>2</th>\n",
       "      <td>[cH0:1][c:2]!@[CX4H2:3][N,O,S:4]</td>\n",
       "      <td>[CC(=O)Nc1cc(Oc2ccc3c(c2)CCN3C(=O)Nc2ccc(C[NH+...</td>\n",
       "      <td>[11, 61, 66, 68, 129, 143, 151, 157, 171, 246,...</td>\n",
       "    </tr>\n",
       "    <tr>\n",
       "      <th>3</th>\n",
       "      <td>[cH0:1][c:2]!@[CX4H2:3][!#1:4]</td>\n",
       "      <td>[CC(=O)Nc1cc(Oc2ccc3c(c2)CCN3C(=O)Nc2ccc(C[NH+...</td>\n",
       "      <td>[11, 33, 61, 66, 68, 82, 103, 116, 121, 129, 1...</td>\n",
       "    </tr>\n",
       "    <tr>\n",
       "      <th>4</th>\n",
       "      <td>[cH0:1][c:2]([cH1])!@[c:3]([cH0:4])[cH1]</td>\n",
       "      <td>[CCn1c(=O)c(-c2cc(C(=O)NC3CC3)ccc2C)cc2nnc(-c3...</td>\n",
       "      <td>[32, 265, 356, 362, 436, 514, 546, 764, 775, 8...</td>\n",
       "    </tr>\n",
       "    <tr>\n",
       "      <th>5</th>\n",
       "      <td>[c:1][CX4:2]!@[CX3:3]=[O:4]</td>\n",
       "      <td>[CC(C)[NH2+]CC(C(=O)N1CCN(c2ncnc3c2C(C)CC3O)CC...</td>\n",
       "      <td>[106, 130, 183, 192, 262, 281, 288, 311, 356, ...</td>\n",
       "    </tr>\n",
       "    <tr>\n",
       "      <th>6</th>\n",
       "      <td>[CH0:1][NX3:2]([CH1])!@[c:3][a:4]</td>\n",
       "      <td>[CC1CCC(C(=O)N(c2cc(C#CC(C)(C)C)sc2C(=O)[O-])C...</td>\n",
       "      <td>[109, 149, 205, 255, 258, 508, 740, 769, 774, ...</td>\n",
       "    </tr>\n",
       "    <tr>\n",
       "      <th>7</th>\n",
       "      <td>[aH0:1][c:2]([aH0])!@[SX2:3][!#1:4]</td>\n",
       "      <td>[CCc1[nH]c2nc(Sc3cnc4nccnc4c3)nc(N3CCC([NH3+])...</td>\n",
       "      <td>[184, 511, 752, 893, 1468, 1622, 1818, 1893, 2...</td>\n",
       "    </tr>\n",
       "    <tr>\n",
       "      <th>8</th>\n",
       "      <td>[aH1:1][c:2]([aH0])!@[SX2:3][!#1:4]</td>\n",
       "      <td>[O=C(CCSc1nc2ccccc2c(=O)[nH]1)NC1CCC(c2nnc(-c3...</td>\n",
       "      <td>[382, 488, 752, 835, 1152, 1237, 1352, 2038, 2...</td>\n",
       "    </tr>\n",
       "    <tr>\n",
       "      <th>9</th>\n",
       "      <td>O=[C:1][NX3H0:2]!@[CX4H0:3][C:4]</td>\n",
       "      <td>[CC(C)c1cccc(C[NH2+]CC(O)C(Cc2ccccc2)NC(=O)C2C...</td>\n",
       "      <td>[1210, 1583, 2304]</td>\n",
       "    </tr>\n",
       "  </tbody>\n",
       "</table>\n",
       "</div>"
      ],
      "text/plain": [
       "                                    torsion  \\\n",
       "0                [a:1][a:2]!@[NX3:3][!#1:4]   \n",
       "1       [cH1:1][c:2]([cH1])!@[NX3:3][CX4:4]   \n",
       "2          [cH0:1][c:2]!@[CX4H2:3][N,O,S:4]   \n",
       "3            [cH0:1][c:2]!@[CX4H2:3][!#1:4]   \n",
       "4  [cH0:1][c:2]([cH1])!@[c:3]([cH0:4])[cH1]   \n",
       "5               [c:1][CX4:2]!@[CX3:3]=[O:4]   \n",
       "6         [CH0:1][NX3:2]([CH1])!@[c:3][a:4]   \n",
       "7       [aH0:1][c:2]([aH0])!@[SX2:3][!#1:4]   \n",
       "8       [aH1:1][c:2]([aH0])!@[SX2:3][!#1:4]   \n",
       "9          O=[C:1][NX3H0:2]!@[CX4H0:3][C:4]   \n",
       "\n",
       "                                                 smi  \\\n",
       "0  [O=[N+]([O-])c1cc(C(F)(F)F)ccc1NCc1ccco1, Cc1c...   \n",
       "1  [Cc1cc(Nc2nn(C(C)C)c(=O)c3cc(N4CC[NH+](C)CC4)c...   \n",
       "2  [CC(=O)Nc1cc(Oc2ccc3c(c2)CCN3C(=O)Nc2ccc(C[NH+...   \n",
       "3  [CC(=O)Nc1cc(Oc2ccc3c(c2)CCN3C(=O)Nc2ccc(C[NH+...   \n",
       "4  [CCn1c(=O)c(-c2cc(C(=O)NC3CC3)ccc2C)cc2nnc(-c3...   \n",
       "5  [CC(C)[NH2+]CC(C(=O)N1CCN(c2ncnc3c2C(C)CC3O)CC...   \n",
       "6  [CC1CCC(C(=O)N(c2cc(C#CC(C)(C)C)sc2C(=O)[O-])C...   \n",
       "7  [CCc1[nH]c2nc(Sc3cnc4nccnc4c3)nc(N3CCC([NH3+])...   \n",
       "8  [O=C(CCSc1nc2ccccc2c(=O)[nH]1)NC1CCC(c2nnc(-c3...   \n",
       "9  [CC(C)c1cccc(C[NH2+]CC(O)C(Cc2ccccc2)NC(=O)C2C...   \n",
       "\n",
       "                                            idxplati  \n",
       "0  [2, 5, 6, 8, 9, 10, 11, 12, 19, 20, 24, 25, 28...  \n",
       "1  [5, 55, 119, 148, 149, 175, 178, 192, 200, 204...  \n",
       "2  [11, 61, 66, 68, 129, 143, 151, 157, 171, 246,...  \n",
       "3  [11, 33, 61, 66, 68, 82, 103, 116, 121, 129, 1...  \n",
       "4  [32, 265, 356, 362, 436, 514, 546, 764, 775, 8...  \n",
       "5  [106, 130, 183, 192, 262, 281, 288, 311, 356, ...  \n",
       "6  [109, 149, 205, 255, 258, 508, 740, 769, 774, ...  \n",
       "7  [184, 511, 752, 893, 1468, 1622, 1818, 1893, 2...  \n",
       "8  [382, 488, 752, 835, 1152, 1237, 1352, 2038, 2...  \n",
       "9                                 [1210, 1583, 2304]  "
      ]
     },
     "execution_count": 79,
     "metadata": {},
     "output_type": "execute_result"
    }
   ],
   "source": [
    "import pandas as pd\n",
    "# torsion_idx_dict[\"O=[C:1][NX3H0:2]!@[CX4H0:3][C:4]\"]\n",
    "k = list(torsion_smi_dict.keys())\n",
    "v = list(torsion_smi_dict.values())\n",
    "v2 = list(torsion_idx_dict.values())\n",
    "torsion_smi_idx_df = pd.DataFrame(list(zip(k, v, v2)), columns=['torsion', 'smi', 'idxplati'])\n",
    "# torsion_smi_df = pd.DataFrame(list(zip(k, v)), columns=['torsion', 'smi'])\n",
    "# torsion_smi_df['idxplati'] = v2\n",
    "# torsion_smi_idx_df = torsion_smi_df\n",
    "# torsion_smi_idx_df.to_csv(\"torsion_pattern_platinum.csv\")\n",
    "\n",
    "# torsion_idx_dict\n",
    "# torsion_smi_dict\n",
    "# list(torsion_smi_dict.keys())\n",
    "torsion_smi_idx_df\n"
   ]
  },
  {
   "cell_type": "code",
   "execution_count": null,
   "metadata": {},
   "outputs": [],
   "source": [
    "probe_idx = 1583\n",
    "for i, mol in enumerate(sdsupplier):\n",
    "    if i == probe_idx - 1:\n",
    "        conf_viewer(mol)"
   ]
  },
  {
   "cell_type": "code",
   "execution_count": 80,
   "metadata": {},
   "outputs": [],
   "source": [
    "summary_df = pd.read_csv(\"/pubhome/qcxia02/git-repo/AI-CONF/datasets/GeoMol/test/drugs-plati/pre-train/test_GeoMol_50_cutoff0.7-test_rdkit_50-th5.0-maxm100-removeH-sumamry.csv\")\n",
    "\n",
    "smi_diff_2 = list(summary_df[summary_df['index_len2']>0]['smi'] )\n",
    "\n",
    "torsion_idxdiff2_dict = defaultdict(list)\n",
    "torsion_idxplati_dict = defaultdict(list)\n",
    "\n",
    "for group, smis in enumerate(list(torsion_smi_idx_df['smi'])):\n",
    "    # print(list(torsion_smi_dict.keys())[group])\n",
    "    torsion = list(torsion_smi_dict.keys())[group]\n",
    "\n",
    "    for smi in smis:\n",
    "        if smi in smi_diff_2:\n",
    "            # print(list(summary_df[summary_df['smi'] == smi]['No.'])) \n",
    "            idxdiff2 = list(summary_df[summary_df['smi'] == smi]['No.'])[0]\n",
    "            torsion_idxdiff2_dict[torsion].append(idxdiff2)\n",
    "            idxplati = smi2idx(smi)\n",
    "            torsion_idxplati_dict[torsion].append(idxplati)\n",
    "\n",
    "            # print(smi)\n"
   ]
  },
  {
   "cell_type": "code",
   "execution_count": 22,
   "metadata": {},
   "outputs": [],
   "source": [
    "k = list(torsion_idxdiff2_dict.keys())\n",
    "v = list(torsion_idxdiff2_dict.values())\n",
    "v2 = list(torsion_idxplati_dict.values())\n",
    "torsion_idxdiff2_idxplati_df = pd.DataFrame(list(zip(k, v, v2)), columns=['torsionSmarts', 'idxdiff2', 'idxplati'])# summary_df[summary_df['No.'] == idx]['smi']\n",
    "\n",
    "torsion_idxdiff2_idxplati_df.to_csv(\"torsion_idxdiff2_idxplati.csv\")"
   ]
  },
  {
   "cell_type": "code",
   "execution_count": null,
   "metadata": {},
   "outputs": [],
   "source": [
    "probe_idx = 1583\n",
    "for i, mol in enumerate(sdsupplier):\n",
    "    if i == probe_idx - 1:\n",
    "        conf_viewer(mol)"
   ]
  },
  {
   "cell_type": "code",
   "execution_count": 52,
   "metadata": {},
   "outputs": [],
   "source": [
    "# Then comes to one-by-one visualization\n",
    "from rdkit.Chem import rdMolTransforms as rdMT\n",
    "from rdkit import Chem\n",
    "from rdkit.Chem.Lipinski import RotatableBondSmarts\n",
    "\n",
    "def findneighbour(mol, idxr) -> list:\n",
    "    atom = mol.GetAtomWithIdx(idxr) #Atoms: c(harged)atom\n",
    "    neighbours = atom.GetNeighbors() #list of Atoms: neighbour atoms of catom\n",
    "    neigh_idxr = [x.GetIdx() for x in neighbours] #list of int: idxes of neighbours \n",
    "\n",
    "    return neigh_idxr\n",
    "\n",
    "def gettorsionangle(sdfile, torsion_smarts):\n",
    "    torsionQuery = Chem.MolFromSmarts(torsion_smarts)\n",
    "    sdsupplier = Chem.SDMolSupplier(sdfile)\n",
    "    torsion_angles = []\n",
    "    # mol = next(Chem.SDMolSupplier(sdfile))\n",
    "    for i, mol in enumerate(sdsupplier):\n",
    "        substruc = mol.GetSubstructMatches(torsionQuery)[0]\n",
    "        rotstruc = mol.GetSubstructMatches(RotatableBondSmarts)\n",
    "        for rot in rotstruc:\n",
    "            if rot[0] in substruc and rot[1] in substruc:\n",
    "                idxr2, idxr3 = rot\n",
    "                a=findneighbour(mol, idxr2)\n",
    "                a.remove(idxr3)\n",
    "                b=findneighbour(mol, idxr3)\n",
    "                b.remove(idxr2)\n",
    "                idxr1 = a[0]\n",
    "                idxr4 = b[0]\n",
    "                # print(rdMT.GetDihedralDeg(mol.GetConformer(0), idxr1, idxr2, idxr3, idxr4))\n",
    "                # torsion_angles.append(rdMT.GetDihedralDeg(mol.GetConformer(0), idxr1, idxr2, idxr3, idxr4))\n",
    "                torsion_angles.append(rdMT.GetDihedralDeg(mol.GetConformer(0), idxr1, idxr2, idxr3, idxr4) + 180)\n",
    "\n",
    "    return torsion_angles\n",
    "\n",
    "torsion_smarts = \"[cH0:1][c:2]([cH1])!@[c:3]([cH0:4])[cH1]\"\n",
    "ref_sdfile = \"/pubhome/qcxia02/git-repo/AI-CONF/datasets/GeoMol/test/drugs-plati/pre-train/split_mols/test_ref/0265.sdf\"\n",
    "rdk_sdfile = \"/pubhome/qcxia02/git-repo/AI-CONF/datasets/GeoMol/test/drugs-plati/pre-train/split_mols/test_rdkit_50/0265.sdf\"\n",
    "GeoMol_sdfile = \"/pubhome/qcxia02/git-repo/AI-CONF/datasets/GeoMol/test/drugs-plati/pre-train/split_mols/test_GeoMol_50_cutoff0/0260.sdf\"\n",
    "\n",
    "ref_TA = gettorsionangle(ref_sdfile,torsion_smarts)\n",
    "rdk_TA = gettorsionangle(rdk_sdfile,torsion_smarts)\n",
    "geo_TA = gettorsionangle(GeoMol_sdfile,torsion_smarts)\n",
    "# for atom in mol.GetAtoms():\n",
    "    # atom.SetProp('atomLabel',str(atom.GetIdx()+1))"
   ]
  },
  {
   "cell_type": "code",
   "execution_count": 47,
   "metadata": {},
   "outputs": [
    {
     "data": {
      "image/png": "[encoded data removed]",
      "text/plain": [
       "<Figure size 432x288 with 1 Axes>"
      ]
     },
     "metadata": {
      "needs_background": "light"
     },
     "output_type": "display_data"
    }
   ],
   "source": [
    "from matplotlib import pyplot as plt\n",
    "from matplotlib.pyplot import MultipleLocator\n",
    "\n",
    "import pandas as pd\n",
    "# torsion_angles = pd.Series(torsion_angles)\n",
    "ax = plt.subplot()\n",
    "# plt.hist(ref_TA, bins=20 , linewidth=0.5, density=True)\n",
    "plt.axvline(ref_TA[0], color = 'red')\n",
    "plt.hist(rdk_TA, bins=20 , linewidth=0.5, density=True)\n",
    "plt.hist(geo_TA, bins=20 , linewidth=0.5, density=True)\n",
    "\n",
    "x_major_locator=MultipleLocator(30) # for define the sep length\n",
    "# y_major_locator=MultipleLocator(10)\n",
    "ax.xaxis.set_major_locator(x_major_locator)\n",
    "# ax.yaxis.set_major_locator(y_major_locator)\n",
    "plt.xlim(-180,180)\n",
    "# plt.ylim(-5,110)\n",
    "plt.show()\n",
    "\n"
   ]
  },
  {
   "cell_type": "code",
   "execution_count": null,
   "metadata": {},
   "outputs": [],
   "source": [
    "# Multiple mols for one torsion pattern\n"
   ]
  },
  {
   "cell_type": "code",
   "execution_count": 141,
   "metadata": {},
   "outputs": [
    {
     "name": "stdout",
     "output_type": "stream",
     "text": [
      "['260', ' 348', ' 845']\n"
     ]
    },
    {
     "data": {
      "text/plain": [
       "[245.84070569284074, 295.5195956071108, 109.44299756283904]"
      ]
     },
     "execution_count": 141,
     "metadata": {},
     "output_type": "execute_result"
    }
   ],
   "source": [
    "import pandas as pd\n",
    "\n",
    "# torsion_smarts = \"[cH0:1][c:2]([cH1])!@[c:3]([cH0:4])[cH1]\"\n",
    "# torsion_smarts =\"[a:1][a:2]!@[NX3:3][!#1:4]\"\n",
    "# torsion_smarts =\"[cH1:1][c:2]([cH1])!@[NX3:3][CX4:4]\"\n",
    "# torsion_smarts =\"[cH0:1][c:2]!@[CX4H2:3][N,O,S:4]\"\n",
    "# torsion_smarts =\"[cH0:1][c:2]!@[CX4H2:3][!#1:4]\"\n",
    "torsion_smarts =\"[cH0:1][c:2]([cH1])!@[c:3]([cH0:4])[cH1]\"\n",
    "# torsion_smarts =\"[c:1][CX4:2]!@[CX3:3]=[O:4]\"\n",
    "# torsion_smarts =\"[CH0:1][NX3:2]([CH1])!@[c:3][a:4]\"\n",
    "# torsion_smarts =\"[aH0:1][c:2]([aH0])!@[SX2:3][!#1:4]\"\n",
    "# torsion_smarts =\"[aH1:1][c:2]([aH0])!@[SX2:3][!#1:4]\"\n",
    "# torsion_smarts =\"O=[C:1][NX3H0:2]!@[CX4H0:3][C:4]\"\n",
    "\n",
    "torsion_idxdiff2_idxplati_df = pd.read_csv(\"/pubhome/qcxia02/git-repo/AI-CONF/GeoMol/scripts/torsion_smarts/torsion_idxdiff2_idxplati.csv\")\n",
    "subdf = torsion_idxdiff2_idxplati_df[torsion_idxdiff2_idxplati_df['torsionSmarts'] == torsion_smarts]\n",
    "geo_idx = list([ str(int(idx)).zfill(4) for idx in list(subdf['idxdiff2'].values)[0][1:-1].split(\",\")])\n",
    "plati_idx = list([ str(int(idx)).zfill(4) for idx in list(subdf['idxplati'].values)[0][1:-1].split(\",\")])\n",
    "# print(geo_idx)\n",
    "print(list(subdf['idxdiff2'].values)[0][1:-1].split(\",\"))\n",
    "# '''\n",
    "ref_sdfiles = list([\n",
    "    f\"/pubhome/qcxia02/git-repo/AI-CONF/datasets/GeoMol/test/drugs-plati/pre-train/split_mols/test_ref/{idx}.sdf\"\n",
    "    for idx in plati_idx\n",
    "])\n",
    "\n",
    "rdk_sdfiles = list([\n",
    "    f\"/pubhome/qcxia02/git-repo/AI-CONF/datasets/GeoMol/test/drugs-plati/pre-train/split_mols/test_rdkit_50/{idx}.sdf\"\n",
    "    for idx in plati_idx\n",
    "])\n",
    "\n",
    "GeoMol_sdfiles = list([\n",
    "    f\"/pubhome/qcxia02/git-repo/AI-CONF/datasets/GeoMol/test/drugs-plati/pre-train/split_mols/test_GeoMol_50_cutoff0/{idx}.sdf\"\n",
    "    for idx in geo_idx\n",
    "])\n",
    "ref_TA, rdk_TA, geo_TA = [], [], []\n",
    "for sdfile in ref_sdfiles:\n",
    "    ref_TA.extend(gettorsionangle(sdfile,torsion_smarts))\n",
    "for sdfile in rdk_sdfiles:\n",
    "    rdk_TA = gettorsionangle(sdfile,torsion_smarts)\n",
    "for sdfile in GeoMol_sdfiles:\n",
    "    geo_TA = gettorsionangle(sdfile,torsion_smarts)\n",
    "# '''"
   ]
  },
  {
   "cell_type": "code",
   "execution_count": 140,
   "metadata": {},
   "outputs": [
    {
     "data": {
      "image/png": "[encoded data removed]",
      "text/plain": [
       "<Figure size 432x288 with 1 Axes>"
      ]
     },
     "metadata": {
      "needs_background": "light"
     },
     "output_type": "display_data"
    }
   ],
   "source": [
    "from matplotlib import pyplot as plt\n",
    "from matplotlib.pyplot import MultipleLocator\n",
    "\n",
    "import pandas as pd\n",
    "# torsion_angles = pd.Series(torsion_angles)\n",
    "ax = plt.subplot()\n",
    "# plt.hist(ref_TA, bins=20 , linewidth=0.5, density=True)\n",
    "# for TA in ref_TA:\n",
    "    # plt.axvline(TA, color = 'red', linewidth=1)\n",
    "plt.hist(rdk_TA, bins=20 , linewidth=0.5, density=True)\n",
    "# plt.hist(geo_TA, bins=20 , linewidth=0.5, density=True)\n",
    "\n",
    "x_major_locator=MultipleLocator(30) # for define the sep length\n",
    "# y_major_locator=MultipleLocator(10)\n",
    "ax.xaxis.set_major_locator(x_major_locator)\n",
    "# ax.yaxis.set_major_locator(y_major_locator)\n",
    "# plt.xlim(-180,180)\n",
    "plt.xlim(0,360)\n",
    "\n",
    "# plt.ylim(-5,110)\n",
    "plt.show()"
   ]
  },
  {
   "cell_type": "code",
   "execution_count": 60,
   "metadata": {},
   "outputs": [
    {
     "data": {
      "text/html": [
       "<div>\n",
       "<style scoped>\n",
       "    .dataframe tbody tr th:only-of-type {\n",
       "        vertical-align: middle;\n",
       "    }\n",
       "\n",
       "    .dataframe tbody tr th {\n",
       "        vertical-align: top;\n",
       "    }\n",
       "\n",
       "    .dataframe thead th {\n",
       "        text-align: right;\n",
       "    }\n",
       "</style>\n",
       "<table border=\"1\" class=\"dataframe\">\n",
       "  <thead>\n",
       "    <tr style=\"text-align: right;\">\n",
       "      <th></th>\n",
       "      <th>Unnamed: 0</th>\n",
       "      <th>torsionSmarts</th>\n",
       "      <th>idxdiff2</th>\n",
       "      <th>idxplati</th>\n",
       "    </tr>\n",
       "  </thead>\n",
       "  <tbody>\n",
       "    <tr>\n",
       "      <th>2</th>\n",
       "      <td>2</td>\n",
       "      <td>[cH0:1][c:2]!@[CX4H2:3][N,O,S:4]</td>\n",
       "      <td>[11, 64, 66, 127, 141, 241, 276, 277, 359, 406...</td>\n",
       "      <td>['0011', '0066', '0068', '0129', '0143', '0246...</td>\n",
       "    </tr>\n",
       "  </tbody>\n",
       "</table>\n",
       "</div>"
      ],
      "text/plain": [
       "   Unnamed: 0                     torsionSmarts  \\\n",
       "2           2  [cH0:1][c:2]!@[CX4H2:3][N,O,S:4]   \n",
       "\n",
       "                                            idxdiff2  \\\n",
       "2  [11, 64, 66, 127, 141, 241, 276, 277, 359, 406...   \n",
       "\n",
       "                                            idxplati  \n",
       "2  ['0011', '0066', '0068', '0129', '0143', '0246...  "
      ]
     },
     "execution_count": 60,
     "metadata": {},
     "output_type": "execute_result"
    }
   ],
   "source": []
  }
 ],
 "metadata": {
  "interpreter": {
   "hash": "163beade40952dcda6b3716807a99b5fd3136546b35af16e70e996543611dfad"
  },
  "kernelspec": {
   "display_name": "Python 3.7.10 64-bit ('GeoMol': conda)",
   "language": "python",
   "name": "python3"
  },
  "language_info": {
   "codemirror_mode": {
    "name": "ipython",
    "version": 3
   },
   "file_extension": ".py",
   "mimetype": "text/x-python",
   "name": "python",
   "nbconvert_exporter": "python",
   "pygments_lexer": "ipython3",
   "version": "3.7.10"
  },
  "orig_nbformat": 4
 },
 "nbformat": 4,
 "nbformat_minor": 2
}
